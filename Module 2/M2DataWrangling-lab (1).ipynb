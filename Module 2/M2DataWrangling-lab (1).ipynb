{
  "metadata": {
    "kernelspec": {
      "name": "python",
      "display_name": "Python (Pyodide)",
      "language": "python"
    },
    "language_info": {
      "codemirror_mode": {
        "name": "python",
        "version": 3
      },
      "file_extension": ".py",
      "mimetype": "text/x-python",
      "name": "python",
      "nbconvert_exporter": "python",
      "pygments_lexer": "ipython3",
      "version": "3.8"
    },
    "prev_pub_hash": "90ac80ca41fde58b95f02cc0cfc0a0f2ed3115615ffe1bdfdfc10fd5ffeef9a4"
  },
  "nbformat_minor": 4,
  "nbformat": 4,
  "cells": [
    {
      "cell_type": "markdown",
      "source": "<p style=\"text-align:center\">\n    <a href=\"https://skills.network/?utm_medium=Exinfluencer&utm_source=Exinfluencer&utm_content=000026UJ&utm_term=10006555&utm_id=NA-SkillsNetwork-Channel-SkillsNetworkCoursesIBMDA0321ENSkillsNetwork928-2022-01-01\" target=\"_blank\">\n    <img src=\"https://cf-courses-data.s3.us.cloud-object-storage.appdomain.cloud/assets/logos/SN_web_lightmode.png\" width=\"400\" alt=\"Skills Network Logo\"  />\n    </a>\n</p>\n",
      "metadata": {}
    },
    {
      "cell_type": "markdown",
      "source": "# **Data Wrangling Lab**\n",
      "metadata": {}
    },
    {
      "cell_type": "markdown",
      "source": "Estimated time needed: **45 to 60** minutes\n",
      "metadata": {}
    },
    {
      "cell_type": "markdown",
      "source": "In this assignment you will be performing data wrangling.\n",
      "metadata": {}
    },
    {
      "cell_type": "markdown",
      "source": "## Objectives\n",
      "metadata": {}
    },
    {
      "cell_type": "markdown",
      "source": "In this lab you will perform the following:\n",
      "metadata": {}
    },
    {
      "cell_type": "markdown",
      "source": "-   Identify duplicate values in the dataset.\n\n-   Remove duplicate values from the dataset.\n\n-   Identify missing values in the dataset.\n\n-   Impute the missing values in the dataset.\n\n-   Normalize data in the dataset.\n",
      "metadata": {}
    },
    {
      "cell_type": "markdown",
      "source": "<hr>\n",
      "metadata": {}
    },
    {
      "cell_type": "markdown",
      "source": "## Hands on Lab\n",
      "metadata": {}
    },
    {
      "cell_type": "markdown",
      "source": "Import pandas module.\n",
      "metadata": {}
    },
    {
      "cell_type": "code",
      "source": "import pandas as pd",
      "metadata": {
        "trusted": true
      },
      "outputs": [
        {
          "name": "stderr",
          "text": "<ipython-input-1-7dd3504c366f>:1: DeprecationWarning: \nPyarrow will become a required dependency of pandas in the next major release of pandas (pandas 3.0),\n(to allow more performant data types, such as the Arrow string type, and better interoperability with other libraries)\nbut was not found to be installed on your system.\nIf this would cause problems for you,\nplease provide us feedback at https://github.com/pandas-dev/pandas/issues/54466\n        \n  import pandas as pd\n",
          "output_type": "stream"
        }
      ],
      "execution_count": 1
    },
    {
      "cell_type": "markdown",
      "source": "Load the dataset into a dataframe.\n",
      "metadata": {}
    },
    {
      "cell_type": "markdown",
      "source": "<h2>Read Data</h2>\n<p>\nWe utilize the <code>pandas.read_csv()</code> function for reading CSV files. However, in this version of the lab, which operates on JupyterLite, the dataset needs to be downloaded to the interface using the provided code below.\n</p>\n",
      "metadata": {}
    },
    {
      "cell_type": "markdown",
      "source": "The functions below will download the dataset into your browser:\n",
      "metadata": {}
    },
    {
      "cell_type": "code",
      "source": "from pyodide.http import pyfetch\n\nasync def download(url, filename):\n    response = await pyfetch(url)\n    if response.status == 200:\n        with open(filename, \"wb\") as f:\n            f.write(await response.bytes())",
      "metadata": {
        "trusted": true
      },
      "outputs": [],
      "execution_count": 2
    },
    {
      "cell_type": "code",
      "source": "file_path = \"https://cf-courses-data.s3.us.cloud-object-storage.appdomain.cloud/IBM-DA0321EN-SkillsNetwork/LargeData/m1_survey_data.csv\"",
      "metadata": {
        "trusted": true
      },
      "outputs": [],
      "execution_count": 3
    },
    {
      "cell_type": "markdown",
      "source": "To obtain the dataset, utilize the download() function as defined above:  \n",
      "metadata": {}
    },
    {
      "cell_type": "code",
      "source": "await download(file_path, \"m1_survey_data.csv\")\nfile_name=\"m1_survey_data.csv\"",
      "metadata": {
        "trusted": true
      },
      "outputs": [],
      "execution_count": 4
    },
    {
      "cell_type": "markdown",
      "source": "Utilize the Pandas method read_csv() to load the data into a dataframe.\n",
      "metadata": {}
    },
    {
      "cell_type": "code",
      "source": "df = pd.read_csv(file_name)",
      "metadata": {
        "trusted": true
      },
      "outputs": [],
      "execution_count": 5
    },
    {
      "cell_type": "markdown",
      "source": "> Note: This version of the lab is working on JupyterLite, which requires the dataset to be downloaded to the interface.While working on the downloaded version of this notebook on their local machines(Jupyter Anaconda), the learners can simply **skip the steps above,** and simply use the URL directly in the `pandas.read_csv()` function. You can uncomment and run the statements in the cell below.\n",
      "metadata": {}
    },
    {
      "cell_type": "code",
      "source": "#df = pd.read_csv(\"https://cf-courses-data.s3.us.cloud-object-storage.appdomain.cloud/IBM-DA0321EN-SkillsNetwork/LargeData/m1_survey_data.csv\")",
      "metadata": {},
      "outputs": [],
      "execution_count": null
    },
    {
      "cell_type": "markdown",
      "source": "## Finding duplicates\n",
      "metadata": {}
    },
    {
      "cell_type": "markdown",
      "source": "In this section you will identify duplicate values in the dataset.\n",
      "metadata": {}
    },
    {
      "cell_type": "markdown",
      "source": " Find how many duplicate rows exist in the dataframe.\n",
      "metadata": {}
    },
    {
      "cell_type": "code",
      "source": "# your code goes here\ndf.duplicated().sum()\n",
      "metadata": {
        "trusted": true
      },
      "outputs": [
        {
          "execution_count": 11,
          "output_type": "execute_result",
          "data": {
            "text/plain": "154"
          },
          "metadata": {}
        }
      ],
      "execution_count": 11
    },
    {
      "cell_type": "markdown",
      "source": "## Removing duplicates\n",
      "metadata": {}
    },
    {
      "cell_type": "markdown",
      "source": "Remove the duplicate rows from the dataframe.\n",
      "metadata": {}
    },
    {
      "cell_type": "code",
      "source": "# your code goes here\ndf.drop_duplicates(inplace=True)\n",
      "metadata": {
        "trusted": true
      },
      "outputs": [],
      "execution_count": 12
    },
    {
      "cell_type": "markdown",
      "source": "Verify if duplicates were actually dropped.\n",
      "metadata": {}
    },
    {
      "cell_type": "code",
      "source": "# your code goes here\ndf.duplicated().sum()\n",
      "metadata": {
        "trusted": true
      },
      "outputs": [
        {
          "execution_count": 13,
          "output_type": "execute_result",
          "data": {
            "text/plain": "0"
          },
          "metadata": {}
        }
      ],
      "execution_count": 13
    },
    {
      "cell_type": "markdown",
      "source": "## Finding Missing values\n",
      "metadata": {}
    },
    {
      "cell_type": "markdown",
      "source": "Find the missing values for all columns.\n",
      "metadata": {}
    },
    {
      "cell_type": "code",
      "source": "# your code goes here\nmissing_data=df.isnull()\nfor column in missing_data.columns.values.tolist():\n    print(column)\n    print(missing_data[column].value_counts())\n    print(\"\")",
      "metadata": {
        "trusted": true
      },
      "outputs": [
        {
          "name": "stdout",
          "text": "Respondent\nRespondent\nFalse    11398\nName: count, dtype: int64\n\nMainBranch\nMainBranch\nFalse    11398\nName: count, dtype: int64\n\nHobbyist\nHobbyist\nFalse    11398\nName: count, dtype: int64\n\nOpenSourcer\nOpenSourcer\nFalse    11398\nName: count, dtype: int64\n\nOpenSource\nOpenSource\nFalse    11317\nTrue        81\nName: count, dtype: int64\n\nEmployment\nEmployment\nFalse    11398\nName: count, dtype: int64\n\nCountry\nCountry\nFalse    11398\nName: count, dtype: int64\n\nStudent\nStudent\nFalse    11347\nTrue        51\nName: count, dtype: int64\n\nEdLevel\nEdLevel\nFalse    11286\nTrue       112\nName: count, dtype: int64\n\nUndergradMajor\nUndergradMajor\nFalse    10661\nTrue       737\nName: count, dtype: int64\n\nEduOther\nEduOther\nFalse    11234\nTrue       164\nName: count, dtype: int64\n\nOrgSize\nOrgSize\nFalse    11302\nTrue        96\nName: count, dtype: int64\n\nDevType\nDevType\nFalse    11333\nTrue        65\nName: count, dtype: int64\n\nYearsCode\nYearsCode\nFalse    11389\nTrue         9\nName: count, dtype: int64\n\nAge1stCode\nAge1stCode\nFalse    11385\nTrue        13\nName: count, dtype: int64\n\nYearsCodePro\nYearsCodePro\nFalse    11382\nTrue        16\nName: count, dtype: int64\n\nCareerSat\nCareerSat\nFalse    11398\nName: count, dtype: int64\n\nJobSat\nJobSat\nFalse    11397\nTrue         1\nName: count, dtype: int64\n\nMgrIdiot\nMgrIdiot\nFalse    10905\nTrue       493\nName: count, dtype: int64\n\nMgrMoney\nMgrMoney\nFalse    10901\nTrue       497\nName: count, dtype: int64\n\nMgrWant\nMgrWant\nFalse    10905\nTrue       493\nName: count, dtype: int64\n\nJobSeek\nJobSeek\nFalse    11398\nName: count, dtype: int64\n\nLastHireDate\nLastHireDate\nFalse    11398\nName: count, dtype: int64\n\nLastInt\nLastInt\nFalse    10985\nTrue       413\nName: count, dtype: int64\n\nFizzBuzz\nFizzBuzz\nFalse    11361\nTrue        37\nName: count, dtype: int64\n\nJobFactors\nJobFactors\nFalse    11395\nTrue         3\nName: count, dtype: int64\n\nResumeUpdate\nResumeUpdate\nFalse    11359\nTrue        39\nName: count, dtype: int64\n\nCurrencySymbol\nCurrencySymbol\nFalse    11398\nName: count, dtype: int64\n\nCurrencyDesc\nCurrencyDesc\nFalse    11398\nName: count, dtype: int64\n\nCompTotal\nCompTotal\nFalse    10589\nTrue       809\nName: count, dtype: int64\n\nCompFreq\nCompFreq\nFalse    11192\nTrue       206\nName: count, dtype: int64\n\nConvertedComp\nConvertedComp\nFalse    10582\nTrue       816\nName: count, dtype: int64\n\nWorkWeekHrs\nWorkWeekHrs\nFalse    11276\nTrue       122\nName: count, dtype: int64\n\nWorkPlan\nWorkPlan\nFalse    11277\nTrue       121\nName: count, dtype: int64\n\nWorkChallenge\nWorkChallenge\nFalse    11234\nTrue       164\nName: count, dtype: int64\n\nWorkRemote\nWorkRemote\nFalse    11390\nTrue         8\nName: count, dtype: int64\n\nWorkLoc\nWorkLoc\nFalse    11366\nTrue        32\nName: count, dtype: int64\n\nImpSyn\nImpSyn\nFalse    11393\nTrue         5\nName: count, dtype: int64\n\nCodeRev\nCodeRev\nFalse    11397\nTrue         1\nName: count, dtype: int64\n\nCodeRevHrs\nCodeRevHrs\nFalse    8972\nTrue     2426\nName: count, dtype: int64\n\nUnitTests\nUnitTests\nFalse    11369\nTrue        29\nName: count, dtype: int64\n\nPurchaseHow\nPurchaseHow\nFalse    11202\nTrue       196\nName: count, dtype: int64\n\nPurchaseWhat\nPurchaseWhat\nFalse    11360\nTrue        38\nName: count, dtype: int64\n\nLanguageWorkedWith\nLanguageWorkedWith\nFalse    11387\nTrue        11\nName: count, dtype: int64\n\nLanguageDesireNextYear\nLanguageDesireNextYear\nFalse    11264\nTrue       134\nName: count, dtype: int64\n\nDatabaseWorkedWith\nDatabaseWorkedWith\nFalse    10945\nTrue       453\nName: count, dtype: int64\n\nDatabaseDesireNextYear\nDatabaseDesireNextYear\nFalse    10356\nTrue      1042\nName: count, dtype: int64\n\nPlatformWorkedWith\nPlatformWorkedWith\nFalse    10987\nTrue       411\nName: count, dtype: int64\n\nPlatformDesireNextYear\nPlatformDesireNextYear\nFalse    10854\nTrue       544\nName: count, dtype: int64\n\nWebFrameWorkedWith\nWebFrameWorkedWith\nFalse    10005\nTrue      1393\nName: count, dtype: int64\n\nWebFrameDesireNextYear\nWebFrameDesireNextYear\nFalse    9781\nTrue     1617\nName: count, dtype: int64\n\nMiscTechWorkedWith\nMiscTechWorkedWith\nFalse    9216\nTrue     2182\nName: count, dtype: int64\n\nMiscTechDesireNextYear\nMiscTechDesireNextYear\nFalse    9943\nTrue     1455\nName: count, dtype: int64\n\nDevEnviron\nDevEnviron\nFalse    11369\nTrue        29\nName: count, dtype: int64\n\nOpSys\nOpSys\nFalse    11364\nTrue        34\nName: count, dtype: int64\n\nContainers\nContainers\nFalse    11316\nTrue        82\nName: count, dtype: int64\n\nBlockchainOrg\nBlockchainOrg\nFalse    9076\nTrue     2322\nName: count, dtype: int64\n\nBlockchainIs\nBlockchainIs\nFalse    8788\nTrue     2610\nName: count, dtype: int64\n\nBetterLife\nBetterLife\nFalse    11300\nTrue        98\nName: count, dtype: int64\n\nITperson\nITperson\nFalse    11363\nTrue        35\nName: count, dtype: int64\n\nOffOn\nOffOn\nFalse    11360\nTrue        38\nName: count, dtype: int64\n\nSocialMedia\nSocialMedia\nFalse    11105\nTrue       293\nName: count, dtype: int64\n\nExtraversion\nExtraversion\nFalse    11378\nTrue        20\nName: count, dtype: int64\n\nScreenName\nScreenName\nFalse    10891\nTrue       507\nName: count, dtype: int64\n\nSOVisit1st\nSOVisit1st\nFalse    11073\nTrue       325\nName: count, dtype: int64\n\nSOVisitFreq\nSOVisitFreq\nFalse    11393\nTrue         5\nName: count, dtype: int64\n\nSOVisitTo\nSOVisitTo\nFalse    11397\nTrue         1\nName: count, dtype: int64\n\nSOFindAnswer\nSOFindAnswer\nFalse    11395\nTrue         3\nName: count, dtype: int64\n\nSOTimeSaved\nSOTimeSaved\nFalse    11348\nTrue        50\nName: count, dtype: int64\n\nSOHowMuchTime\nSOHowMuchTime\nFalse    9481\nTrue     1917\nName: count, dtype: int64\n\nSOAccount\nSOAccount\nFalse    11397\nTrue         1\nName: count, dtype: int64\n\nSOPartFreq\nSOPartFreq\nFalse    10270\nTrue      1128\nName: count, dtype: int64\n\nSOJobs\nSOJobs\nFalse    11392\nTrue         6\nName: count, dtype: int64\n\nEntTeams\nEntTeams\nFalse    11393\nTrue         5\nName: count, dtype: int64\n\nSOComm\nSOComm\nFalse    11398\nName: count, dtype: int64\n\nWelcomeChange\nWelcomeChange\nFalse    11313\nTrue        85\nName: count, dtype: int64\n\nSONewContent\nSONewContent\nFalse    9433\nTrue     1965\nName: count, dtype: int64\n\nAge\nAge\nFalse    11111\nTrue       287\nName: count, dtype: int64\n\nGender\nGender\nFalse    11325\nTrue        73\nName: count, dtype: int64\n\nTrans\nTrans\nFalse    11275\nTrue       123\nName: count, dtype: int64\n\nSexuality\nSexuality\nFalse    10856\nTrue       542\nName: count, dtype: int64\n\nEthnicity\nEthnicity\nFalse    10723\nTrue       675\nName: count, dtype: int64\n\nDependents\nDependents\nFalse    11258\nTrue       140\nName: count, dtype: int64\n\nSurveyLength\nSurveyLength\nFalse    11379\nTrue        19\nName: count, dtype: int64\n\nSurveyEase\nSurveyEase\nFalse    11384\nTrue        14\nName: count, dtype: int64\n\n",
          "output_type": "stream"
        }
      ],
      "execution_count": 16
    },
    {
      "cell_type": "markdown",
      "source": "Find out how many rows are missing in the column 'WorkLoc'\n",
      "metadata": {}
    },
    {
      "cell_type": "code",
      "source": "# your code goes here\nmissing_data['WorkLoc'].value_counts()",
      "metadata": {
        "trusted": true
      },
      "outputs": [
        {
          "execution_count": 20,
          "output_type": "execute_result",
          "data": {
            "text/plain": "WorkLoc\nFalse    11366\nTrue        32\nName: count, dtype: int64"
          },
          "metadata": {}
        }
      ],
      "execution_count": 20
    },
    {
      "cell_type": "markdown",
      "source": "## Imputing missing values\n",
      "metadata": {}
    },
    {
      "cell_type": "markdown",
      "source": "Find the  value counts for the column WorkLoc.\n",
      "metadata": {}
    },
    {
      "cell_type": "code",
      "source": "# your code goes here\ndf['WorkLoc'].value_counts()\n\n",
      "metadata": {
        "trusted": true
      },
      "outputs": [
        {
          "execution_count": 23,
          "output_type": "execute_result",
          "data": {
            "text/plain": "WorkLoc\nOffice                                            6806\nHome                                              3589\nOther place, such as a coworking space or cafe     971\nName: count, dtype: int64"
          },
          "metadata": {}
        }
      ],
      "execution_count": 23
    },
    {
      "cell_type": "markdown",
      "source": "Identify the value that is most frequent (majority) in the WorkLoc column.\n",
      "metadata": {}
    },
    {
      "cell_type": "code",
      "source": "#make a note of the majority value here, for future reference\ndf['WorkLoc'].value_counts().idxmax()",
      "metadata": {
        "trusted": true
      },
      "outputs": [
        {
          "execution_count": 24,
          "output_type": "execute_result",
          "data": {
            "text/plain": "'Office'"
          },
          "metadata": {}
        }
      ],
      "execution_count": 24
    },
    {
      "cell_type": "markdown",
      "source": "Impute (replace) all the empty rows in the column WorkLoc with the value that you have identified as majority.\n",
      "metadata": {}
    },
    {
      "cell_type": "code",
      "source": "# your code goes here\ndf['WorkLoc'].fillna(\"Office\",inplace=True)",
      "metadata": {
        "trusted": true
      },
      "outputs": [
        {
          "name": "stderr",
          "text": "<ipython-input-26-3dc65e0bef0a>:2: FutureWarning: A value is trying to be set on a copy of a DataFrame or Series through chained assignment using an inplace method.\nThe behavior will change in pandas 3.0. This inplace method will never work because the intermediate object on which we are setting values always behaves as a copy.\n\nFor example, when doing 'df[col].method(value, inplace=True)', try using 'df.method({col: value}, inplace=True)' or df[col] = df[col].method(value) instead, to perform the operation inplace on the original object.\n\n\n  df['WorkLoc'].fillna(\"Office\",inplace=True)\n",
          "output_type": "stream"
        }
      ],
      "execution_count": 26
    },
    {
      "cell_type": "markdown",
      "source": "After imputation there should ideally not be any empty rows in the WorkLoc column.\n",
      "metadata": {}
    },
    {
      "cell_type": "markdown",
      "source": "Verify if imputing was successful.\n",
      "metadata": {}
    },
    {
      "cell_type": "code",
      "source": "# your code goes here\ndf['WorkLoc'].isnull().value_counts()\n",
      "metadata": {
        "trusted": true
      },
      "outputs": [
        {
          "execution_count": 30,
          "output_type": "execute_result",
          "data": {
            "text/plain": "WorkLoc\nFalse    11398\nName: count, dtype: int64"
          },
          "metadata": {}
        }
      ],
      "execution_count": 30
    },
    {
      "cell_type": "markdown",
      "source": "## Normalizing data\n",
      "metadata": {}
    },
    {
      "cell_type": "markdown",
      "source": "There are two columns in the dataset that talk about compensation.\n\nOne is \"CompFreq\". This column shows how often a developer is paid (Yearly, Monthly, Weekly).\n\nThe other is \"CompTotal\". This column talks about how much the developer is paid per Year, Month, or Week depending upon his/her \"CompFreq\". \n\nThis makes it difficult to compare the total compensation of the developers.\n\nIn this section you will create a new column called 'NormalizedAnnualCompensation' which contains the 'Annual Compensation' irrespective of the 'CompFreq'.\n\nOnce this column is ready, it makes comparison of salaries easy.\n",
      "metadata": {}
    },
    {
      "cell_type": "markdown",
      "source": "<hr>\n",
      "metadata": {}
    },
    {
      "cell_type": "markdown",
      "source": "List out the various categories in the column 'CompFreq'\n",
      "metadata": {}
    },
    {
      "cell_type": "code",
      "source": "# your code goes here\ndf['CompFreq'].value_counts()",
      "metadata": {
        "trusted": true
      },
      "outputs": [
        {
          "execution_count": 32,
          "output_type": "execute_result",
          "data": {
            "text/plain": "CompFreq\nYearly     6073\nMonthly    4788\nWeekly      331\nName: count, dtype: int64"
          },
          "metadata": {}
        }
      ],
      "execution_count": 32
    },
    {
      "cell_type": "markdown",
      "source": "Create a new column named 'NormalizedAnnualCompensation'. Use the hint given below if needed.\n",
      "metadata": {}
    },
    {
      "cell_type": "markdown",
      "source": "Double click to see the **Hint**.\n\n<!--\n\nUse the below logic to arrive at the values for the column NormalizedAnnualCompensation.\n\nIf the CompFreq is Yearly then use the exising value in CompTotal\nIf the CompFreq is Monthly then multiply the value in CompTotal with 12 (months in an year)\nIf the CompFreq is Weekly then multiply the value in CompTotal with 52 (weeks in an year)\n\n-->\n",
      "metadata": {}
    },
    {
      "cell_type": "code",
      "source": "# your code goes here\ndef normalized_compensation(row):\n    if row['CompFreq']=='Yearly':\n        return row['CompTotal']\n    elif row['CompFreq']=='Monthly':\n        return row['CompTotal']*12\n    elif row['CompFreq']=='Weekly':\n        return row['CompTotal']*52\n\ndf['NormalizedAnnualCompensation'] = df.apply(normalized_compensation, axis=1)\ndf[['NormalizedAnnualCompensation']]",
      "metadata": {
        "trusted": true
      },
      "outputs": [
        {
          "execution_count": 41,
          "output_type": "execute_result",
          "data": {
            "text/plain": "       NormalizedAnnualCompensation\n0                           61000.0\n1                          138000.0\n2                           90000.0\n3                          348000.0\n4                           90000.0\n...                             ...\n11547                      130000.0\n11548                       74400.0\n11549                      105000.0\n11550                       80000.0\n11551                           NaN\n\n[11398 rows x 1 columns]",
            "text/html": "<div>\n<style scoped>\n    .dataframe tbody tr th:only-of-type {\n        vertical-align: middle;\n    }\n\n    .dataframe tbody tr th {\n        vertical-align: top;\n    }\n\n    .dataframe thead th {\n        text-align: right;\n    }\n</style>\n<table border=\"1\" class=\"dataframe\">\n  <thead>\n    <tr style=\"text-align: right;\">\n      <th></th>\n      <th>NormalizedAnnualCompensation</th>\n    </tr>\n  </thead>\n  <tbody>\n    <tr>\n      <th>0</th>\n      <td>61000.0</td>\n    </tr>\n    <tr>\n      <th>1</th>\n      <td>138000.0</td>\n    </tr>\n    <tr>\n      <th>2</th>\n      <td>90000.0</td>\n    </tr>\n    <tr>\n      <th>3</th>\n      <td>348000.0</td>\n    </tr>\n    <tr>\n      <th>4</th>\n      <td>90000.0</td>\n    </tr>\n    <tr>\n      <th>...</th>\n      <td>...</td>\n    </tr>\n    <tr>\n      <th>11547</th>\n      <td>130000.0</td>\n    </tr>\n    <tr>\n      <th>11548</th>\n      <td>74400.0</td>\n    </tr>\n    <tr>\n      <th>11549</th>\n      <td>105000.0</td>\n    </tr>\n    <tr>\n      <th>11550</th>\n      <td>80000.0</td>\n    </tr>\n    <tr>\n      <th>11551</th>\n      <td>NaN</td>\n    </tr>\n  </tbody>\n</table>\n<p>11398 rows × 1 columns</p>\n</div>"
          },
          "metadata": {}
        }
      ],
      "execution_count": 41
    },
    {
      "cell_type": "markdown",
      "source": "## Authors\n",
      "metadata": {}
    },
    {
      "cell_type": "markdown",
      "source": "Ramesh Sannareddy\n",
      "metadata": {}
    },
    {
      "cell_type": "markdown",
      "source": "### Other Contributors\n",
      "metadata": {}
    },
    {
      "cell_type": "markdown",
      "source": "Rav Ahuja\n",
      "metadata": {}
    },
    {
      "cell_type": "markdown",
      "source": " Copyright © 2020 IBM Corporation. This notebook and its source code are released under the terms of the [MIT License](https://cognitiveclass.ai/mit-license?utm_medium=Exinfluencer&utm_source=Exinfluencer&utm_content=000026UJ&utm_term=10006555&utm_id=NA-SkillsNetwork-Channel-SkillsNetworkCoursesIBMDA0321ENSkillsNetwork928-2022-01-01&cm_mmc=Email_Newsletter-_-Developer_Ed%2BTech-_-WW_WW-_-SkillsNetwork-Courses-IBM-DA0321EN-SkillsNetwork-21426264&cm_mmca1=000026UJ&cm_mmca2=10006555&cm_mmca3=M12345678&cvosrc=email.Newsletter.M12345678&cvo_campaign=000026UJ).\n",
      "metadata": {}
    },
    {
      "cell_type": "markdown",
      "source": "<!--## Change Log\n",
      "metadata": {}
    },
    {
      "cell_type": "markdown",
      "source": "<!--| Date (YYYY-MM-DD) | Version | Changed By        | Change Description                 |\n| ----------------- | ------- | ----------------- | ---------------------------------- |\n| 2020-10-17        | 0.1     | Ramesh Sannareddy | Created initial version of the lab |--!>\n",
      "metadata": {}
    }
  ]
}